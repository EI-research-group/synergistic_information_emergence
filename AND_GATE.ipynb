{
 "cells": [
  {
   "cell_type": "code",
   "execution_count": 3,
   "metadata": {},
   "outputs": [],
   "source": [
    "import numpy as np \n",
    "import networkx as nx\n",
    "import dit\n",
    "from library import equilibrium_dist, dit_dist, pid_dicts\n",
    "from itertools import product\n",
    "import matplotlib.pyplot as plt\n",
    "from dit.pid import PID_WB\n",
    "%matplotlib inline "
   ]
  },
  {
   "cell_type": "markdown",
   "metadata": {},
   "source": [
    "# Micro-State Boolean Network\n",
    "\n",
    "This is the first time that we'll be doing the full PID on the micro-scale collection of NAND gates, and the macro-scale single logic gate. The \"information source\" is the A and B \"input\" nodes, which will randomly change of 0 -> 1 or 1 -> 0 with a probability of 1/2. \n",
    "\n",
    "I'll do the PID on the micro- and macro- scales using both the equilibrium distributions AND the maximum enetropy distributions, to see what a difference it makes the system. "
   ]
  },
  {
   "cell_type": "code",
   "execution_count": 21,
   "metadata": {},
   "outputs": [
    {
     "data": {
      "image/png": "[encoded data removed]",
      "text/plain": [
       "<Figure size 432x288 with 1 Axes>"
      ]
     },
     "metadata": {
      "needs_background": "light"
     },
     "output_type": "display_data"
    }
   ],
   "source": [
    "#Starting w/ the Deterministic LUT w/ A and B held constant, to make sure I'm on the right track. \n",
    "#I won't do this every time.\n",
    "\n",
    "mat_micro = np.zeros((16,16))\n",
    "\n",
    "#The first two elements of the future joint state will always mirror the first two elements of the past state,\n",
    "#As long as A and B are considered constant.\n",
    "\n",
    "mat_micro[0][3] = 1 #0000 -> 0011\n",
    "mat_micro[1][3] = 1 #0001 -> 0011\n",
    "mat_micro[2][2] = 1 #0010 -> 0010\n",
    "mat_micro[3][2] = 1 #0011 -> 0010\n",
    "\n",
    "mat_micro[4][7] = 1 #0100 -> 0111\n",
    "mat_micro[5][7] = 1 #0101 -> 0111\n",
    "mat_micro[6][6] = 1 #0110 -> 0110\n",
    "mat_micro[7][6] = 1 #0111 -> 0110\n",
    "\n",
    "mat_micro[8][11] = 1 #1000 -> 1011\n",
    "mat_micro[9][11] = 1 #1001 -> 1011\n",
    "mat_micro[10][10] = 1 #1010 -> 1010\n",
    "mat_micro[11][10] = 1 #1011 -> 1010\n",
    "\n",
    "mat_micro[12][13] = 1 #1100 -> 1101\n",
    "mat_micro[13][13] = 1 #1101 -> 1101\n",
    "mat_micro[14][12] = 1 #1110 -> 1100\n",
    "mat_micro[15][12] = 1 #1111 -> 1100\n",
    "\n",
    "plt.imshow(mat_micro)\n",
    "\n",
    "states = [\"\".join(x) for x in product([\"0\",\"1\"], repeat=int(np.log2(mat_micro.shape[0])))]\n",
    "lookup = {states[i]:[int(x) for x in mat_micro[i]] for i in range(mat_micro.shape[0])}"
   ]
  },
  {
   "cell_type": "markdown",
   "metadata": {},
   "source": [
    "For a first pass, I treated A and B as constants, so we need to ensure make sure that all of the possible outcomes include the random updating of A and B.\n",
    "\n",
    "We start this by looking at the possible joint-states all the OTHER (not A or B) can be in, and then appending \"00\", \"01\", \"10\" and \"11\" to the front of them. Since we have two NAND gates, our possible joint-states are also \"00\" (NAND1 = 0, NAND2 = 0), \"01\" (NAND1 = 0, NAND2 = 1), and so on. \n",
    "\n",
    "Putting them together we get:"
   ]
  },
  {
   "cell_type": "code",
   "execution_count": 22,
   "metadata": {},
   "outputs": [],
   "source": [
    "for i in range(mat_micro.shape[0]):\n",
    "    possible_states = ([int(x,2) for x in states if x[2:] == states[np.where(mat_micro[i] == 1)[0][0]][2:]])\n",
    "    mat_micro[i][possible_states] = 0.25"
   ]
  },
  {
   "cell_type": "code",
   "execution_count": 23,
   "metadata": {
    "scrolled": true
   },
   "outputs": [
    {
     "data": {
      "text/plain": [
       "<matplotlib.colorbar.Colorbar at 0x7ffa42a2f880>"
      ]
     },
     "execution_count": 23,
     "metadata": {},
     "output_type": "execute_result"
    },
    {
     "data": {
      "image/png": "[encoded data removed]",
      "text/plain": [
       "<Figure size 432x288 with 2 Axes>"
      ]
     },
     "metadata": {
      "needs_background": "light"
     },
     "output_type": "display_data"
    }
   ],
   "source": [
    "plt.imshow(mat_micro, vmin=0, vmax=1)\n",
    "plt.ylabel(\"Present State\")\n",
    "plt.xlabel(\"Future State\")\n",
    "plt.colorbar(label=\"Probability\")"
   ]
  },
  {
   "cell_type": "markdown",
   "metadata": {},
   "source": [
    "We can double check that all this works by running through a few rows manually. Take the top row: at time $t$, our system is in 0000.\n",
    "\n",
    "At time t+1, for things might have happened. If AB = 00, then the joint-state of the system is 0011 (column 4). If AB = 11, then the joint-state of the system is 1111 (column 15). If AB=01, then the system is in 0111 (columnn 7) and if AB=10, then the system is in 1011 (column 11). These all check out. \n",
    "\n",
    "If at time $t$ the system is in 1111, then if AB=00, the whole system = 00, if AB=11, then the whole system = 1100 (column 12), and so on. These seem to have worked quite well. \n",
    "\n",
    "Does this thing have a well-behaved equilibrium distribution?\n"
   ]
  },
  {
   "cell_type": "code",
   "execution_count": 24,
   "metadata": {
    "scrolled": true
   },
   "outputs": [
    {
     "name": "stdout",
     "output_type": "stream",
     "text": [
      "[0.046875 0.015625 0.140625 0.046875 0.046875 0.015625 0.140625 0.046875\n",
      " 0.046875 0.015625 0.140625 0.046875 0.046875 0.015625 0.140625 0.046875]\n"
     ]
    }
   ],
   "source": [
    "pi = equilibrium_dist(mat_micro)\n",
    "print(pi)"
   ]
  },
  {
   "cell_type": "markdown",
   "metadata": {},
   "source": [
    "Sort of? It visits every state, but not all of them equally. We will use this to construct our PID."
   ]
  },
  {
   "cell_type": "code",
   "execution_count": 25,
   "metadata": {
    "scrolled": true
   },
   "outputs": [
    {
     "name": "stdout",
     "output_type": "stream",
     "text": [
      "Class:          Distribution\n",
      "Alphabet:       (('0', '1'), ('0', '1'), ('0', '1'), ('0', '1'), ('A', 'B', 'C', 'D', 'E', 'F', 'G', 'H', 'I', 'J', 'K', 'L', 'M', 'N', 'O', 'P'))\n",
      "Base:           linear\n",
      "Outcome Class:  str\n",
      "Outcome Length: 5\n",
      "RV Names:       None\n",
      "\n",
      "x       p(x)\n",
      "0000D   0.011718750000000005\n",
      "0000H   0.011718750000000005\n",
      "0000L   0.011718750000000005\n",
      "0000P   0.011718750000000005\n",
      "0001D   0.0039062499999999653\n",
      "0001H   0.0039062499999999653\n",
      "0001L   0.0039062499999999653\n",
      "0001P   0.0039062499999999653\n",
      "0010C   0.03515625000000008\n",
      "0010G   0.03515625000000008\n",
      "0010K   0.03515625000000008\n",
      "0010O   0.03515625000000008\n",
      "0011C   0.011718749999999977\n",
      "0011G   0.011718749999999977\n",
      "0011K   0.011718749999999977\n",
      "0011O   0.011718749999999977\n",
      "0100D   0.01171875\n",
      "0100H   0.01171875\n",
      "0100L   0.01171875\n",
      "0100P   0.01171875\n",
      "0101D   0.003906249999999951\n",
      "0101H   0.003906249999999951\n",
      "0101L   0.003906249999999951\n",
      "0101P   0.003906249999999951\n",
      "0110C   0.03515625000000007\n",
      "0110G   0.03515625000000007\n",
      "0110K   0.03515625000000007\n",
      "0110O   0.03515625000000007\n",
      "0111C   0.011718749999999995\n",
      "0111G   0.011718749999999995\n",
      "0111K   0.011718749999999995\n",
      "0111O   0.011718749999999995\n",
      "1000D   0.011718749999999991\n",
      "1000H   0.011718749999999991\n",
      "1000L   0.011718749999999991\n",
      "1000P   0.011718749999999991\n",
      "1001D   0.003906249999999974\n",
      "1001H   0.003906249999999974\n",
      "1001L   0.003906249999999974\n",
      "1001P   0.003906249999999974\n",
      "1010C   0.03515625000000006\n",
      "1010G   0.03515625000000006\n",
      "1010K   0.03515625000000006\n",
      "1010O   0.03515625000000006\n",
      "1011C   0.011718749999999977\n",
      "1011G   0.011718749999999977\n",
      "1011K   0.011718749999999977\n",
      "1011O   0.011718749999999977\n",
      "1100B   0.011718749999999988\n",
      "1100F   0.011718749999999988\n",
      "1100J   0.011718749999999988\n",
      "1100N   0.011718749999999988\n",
      "1101B   0.0039062499999999636\n",
      "1101F   0.0039062499999999636\n",
      "1101J   0.0039062499999999636\n",
      "1101N   0.0039062499999999636\n",
      "1110A   0.035156250000000056\n",
      "1110E   0.035156250000000056\n",
      "1110I   0.035156250000000056\n",
      "1110M   0.035156250000000056\n",
      "1111A   0.011718749999999969\n",
      "1111E   0.011718749999999969\n",
      "1111I   0.011718749999999969\n",
      "1111M   0.011718749999999969\n"
     ]
    }
   ],
   "source": [
    "Dist = dit_dist(pi, mat_micro)\n",
    "print(Dist)"
   ]
  },
  {
   "cell_type": "markdown",
   "metadata": {},
   "source": [
    "Now for the PID:"
   ]
  },
  {
   "cell_type": "code",
   "execution_count": 9,
   "metadata": {},
   "outputs": [],
   "source": [
    "imin_micro = PID_WB(Dist)"
   ]
  },
  {
   "cell_type": "code",
   "execution_count": 11,
   "metadata": {},
   "outputs": [],
   "source": [
    "micro_lattice_order, micro_pid_results = pid_dicts(imin_micro)\n",
    "\n",
    "bundle = np.array([micro_lattice_order, micro_pid_results], dtype=\"object\")\n",
    "np.savez_compressed(\"AND_micro_PID_dicts.npz\", bundle)\n",
    "\n",
    "lattice = imin_micro._lattice._lattice\n",
    "node_tups = sorted(lattice)\n",
    "node_strs = [(''.join('{{{}}}'.format(':'.join(map(str, n))) for n in node)) for node in sorted(lattice.nodes)]\n",
    "\n",
    "mapping = {node_tups[i] : node_strs[i] for i in range(len(node_tups))}\n",
    "and_micro_lattice = nx.relabel_nodes(lattice, mapping)\n",
    "\n",
    "nx.write_edgelist(and_micro_lattice,\"AND_micro_lattice.edgelist\")"
   ]
  },
  {
   "cell_type": "markdown",
   "metadata": {},
   "source": [
    "# Macro AND Gate"
   ]
  },
  {
   "cell_type": "code",
   "execution_count": 12,
   "metadata": {},
   "outputs": [
    {
     "data": {
      "text/plain": [
       "<matplotlib.colorbar.Colorbar at 0x7ffa42beed90>"
      ]
     },
     "execution_count": 12,
     "metadata": {},
     "output_type": "execute_result"
    },
    {
     "data": {
      "image/png": "[encoded data removed]",
      "text/plain": [
       "<Figure size 432x288 with 2 Axes>"
      ]
     },
     "metadata": {
      "needs_background": "light"
     },
     "output_type": "display_data"
    }
   ],
   "source": [
    "mat_macro = np.zeros((8,8))\n",
    "mat_macro[0][1] = 1 #000 -> 000\n",
    "mat_macro[1][1] = 1 #001 -> 000\n",
    "\n",
    "mat_macro[2][3] = 1 #010 -> 010\n",
    "mat_macro[3][3] = 1 #011 -> 010\n",
    "\n",
    "mat_macro[4][5] = 1 #100 -> 100\n",
    "mat_macro[5][5] = 1 #101 -> 100\n",
    "\n",
    "mat_macro[6][6] = 1 #110 -> 111\n",
    "mat_macro[7][6] = 1 #111 -> 111\n",
    "\n",
    "\n",
    "plt.imshow(mat_macro)\n",
    "plt.ylabel(\"Present State\")\n",
    "plt.xlabel(\"Future State\")\n",
    "plt.colorbar(label=\"Probability\")"
   ]
  },
  {
   "cell_type": "code",
   "execution_count": 13,
   "metadata": {
    "scrolled": false
   },
   "outputs": [
    {
     "data": {
      "text/plain": [
       "<matplotlib.colorbar.Colorbar at 0x7ffa42b37b80>"
      ]
     },
     "execution_count": 13,
     "metadata": {},
     "output_type": "execute_result"
    },
    {
     "data": {
      "image/png": "[encoded data removed]",
      "text/plain": [
       "<Figure size 432x288 with 2 Axes>"
      ]
     },
     "metadata": {
      "needs_background": "light"
     },
     "output_type": "display_data"
    }
   ],
   "source": [
    "macro_states = [\"000\",\"001\",\"010\",\"011\",\"100\",\"101\",\"110\",\"111\"]\n",
    "for i in range(mat_macro.shape[0]):\n",
    "    possible_states = ([int(x,2) for x in macro_states if x[2:] == macro_states[np.where(mat_macro[i] == 1)[0][0]][2:]])\n",
    "    mat_macro[i][possible_states] = 0.25\n",
    "    \n",
    "plt.imshow(mat_macro, vmin=0, vmax=1)\n",
    "plt.ylabel(\"Present State\")\n",
    "plt.xlabel(\"Future State\")\n",
    "plt.colorbar(label=\"Probability\")"
   ]
  },
  {
   "cell_type": "markdown",
   "metadata": {},
   "source": [
    "Under the equilibrium probability distribution:"
   ]
  },
  {
   "cell_type": "code",
   "execution_count": 15,
   "metadata": {
    "scrolled": true
   },
   "outputs": [
    {
     "name": "stdout",
     "output_type": "stream",
     "text": [
      "[0.0625 0.1875 0.0625 0.1875 0.0625 0.1875 0.0625 0.1875]\n",
      "\n",
      "Class:          Distribution\n",
      "Alphabet:       (('0', '1'), ('0', '1'), ('0', '1'), ('0', '1', '2', '3', '4', '5', '6', '7'))\n",
      "Base:           linear\n",
      "Outcome Class:  str\n",
      "Outcome Length: 4\n",
      "RV Names:       None\n",
      "\n",
      "x      p(x)\n",
      "0001   0.015625\n",
      "0003   0.015625\n",
      "0005   0.015625\n",
      "0007   0.015625\n",
      "0011   0.04687500000000001\n",
      "0013   0.04687500000000001\n",
      "0015   0.04687500000000001\n",
      "0017   0.04687500000000001\n",
      "0101   0.015624999999999986\n",
      "0103   0.015624999999999986\n",
      "0105   0.015624999999999986\n",
      "0107   0.015624999999999986\n",
      "0111   0.04687500000000001\n",
      "0113   0.04687500000000001\n",
      "0115   0.04687500000000001\n",
      "0117   0.04687500000000001\n",
      "1001   0.015624999999999986\n",
      "1003   0.015624999999999986\n",
      "1005   0.015624999999999986\n",
      "1007   0.015624999999999986\n",
      "1011   0.046875\n",
      "1013   0.046875\n",
      "1015   0.046875\n",
      "1017   0.046875\n",
      "1100   0.015624999999999995\n",
      "1102   0.015624999999999995\n",
      "1104   0.015624999999999995\n",
      "1106   0.015624999999999995\n",
      "1110   0.046875\n",
      "1112   0.046875\n",
      "1114   0.046875\n",
      "1116   0.046875\n",
      "\n"
     ]
    }
   ],
   "source": [
    "pi_macro = pi = equilibrium_dist(mat_macro)\n",
    "print(pi_macro)\n",
    "print(\"\")\n",
    "Dist_macro = dit_dist(pi_macro, mat_macro)\n",
    "print(Dist_macro)\n",
    "print(\"\")\n"
   ]
  },
  {
   "cell_type": "code",
   "execution_count": 16,
   "metadata": {
    "scrolled": true
   },
   "outputs": [
    {
     "name": "stdout",
     "output_type": "stream",
     "text": [
      "+-----------------+--------+--------+\n",
      "|      I_min      |  I_r   |   pi   |\n",
      "+-----------------+--------+--------+\n",
      "|     {0:1:2}     | 0.8113 | 0.0000 |\n",
      "|      {0:1}      | 0.8113 | 0.5000 |\n",
      "|      {0:2}      | 0.3113 | 0.0000 |\n",
      "|      {1:2}      | 0.3113 | 0.0000 |\n",
      "|    {0:1}{0:2}   | 0.3113 | 0.0000 |\n",
      "|    {0:1}{1:2}   | 0.3113 | 0.0000 |\n",
      "|    {0:2}{1:2}   | 0.3113 | 0.0000 |\n",
      "| {0:1}{0:2}{1:2} | 0.3113 | 0.0000 |\n",
      "|       {0}       | 0.3113 | 0.0000 |\n",
      "|       {1}       | 0.3113 | 0.0000 |\n",
      "|       {2}       | 0.0000 | 0.0000 |\n",
      "|     {0}{1:2}    | 0.3113 | 0.0000 |\n",
      "|     {1}{0:2}    | 0.3113 | 0.0000 |\n",
      "|     {2}{0:1}    | 0.0000 | 0.0000 |\n",
      "|      {0}{1}     | 0.3113 | 0.3113 |\n",
      "|      {0}{2}     | 0.0000 | 0.0000 |\n",
      "|      {1}{2}     | 0.0000 | 0.0000 |\n",
      "|    {0}{1}{2}    | 0.0000 | 0.0000 |\n",
      "+-----------------+--------+--------+\n"
     ]
    }
   ],
   "source": [
    "imin_macro = PID_WB(Dist_macro)\n",
    "print(imin_macro)"
   ]
  },
  {
   "cell_type": "code",
   "execution_count": 17,
   "metadata": {},
   "outputs": [],
   "source": [
    "macro_lattice_order, macro_pid_results = pid_dicts(imin_macro)\n",
    "\n",
    "bundle = np.array([macro_lattice_order, macro_pid_results], dtype=\"object\")\n",
    "np.savez_compressed(\"AND_macro_PID_dicts.npz\", bundle)"
   ]
  },
  {
   "cell_type": "code",
   "execution_count": 18,
   "metadata": {},
   "outputs": [],
   "source": [
    "lattice = imin_macro._lattice._lattice\n",
    "node_tups = sorted(lattice)\n",
    "node_strs = [(''.join('{{{}}}'.format(':'.join(map(str, n))) for n in node)) for node in sorted(lattice.nodes)]\n",
    "\n",
    "mapping = {node_tups[i] : node_strs[i] for i in range(len(node_tups))}\n",
    "and_micro_lattice = nx.relabel_nodes(lattice, mapping)\n",
    "\n",
    "nx.write_edgelist(and_micro_lattice,\"AND_macro_lattice.edgelist\")"
   ]
  },
  {
   "cell_type": "markdown",
   "metadata": {},
   "source": [
    "Under conditions of maximum entropy, most of it looks the same:"
   ]
  },
  {
   "cell_type": "markdown",
   "metadata": {},
   "source": [
    "# Comparing Macro and Micro \n",
    "So, how do we compare all these distributions. Let's look at the two equilibrium dist distributions"
   ]
  },
  {
   "cell_type": "code",
   "execution_count": 19,
   "metadata": {},
   "outputs": [
    {
     "name": "stdout",
     "output_type": "stream",
     "text": [
      "+--------------------------------+--------+--------+\n",
      "|             I_min              |  I_r   |   pi   |\n",
      "+--------------------------------+--------+--------+\n",
      "|           {0:1:2:3}            | 1.6226 | 0.0000 |\n",
      "|            {0:1:2}             | 1.6226 | 0.3903 |\n",
      "|            {0:1:3}             | 0.8113 | 0.0000 |\n",
      "|            {0:2:3}             | 1.1226 | 0.0000 |\n",
      "|            {1:2:3}             | 1.1226 | 0.0000 |\n",
      "|         {0:1:2}{0:1:3}         | 0.8113 | 0.0000 |\n",
      "|         {0:1:2}{0:2:3}         | 1.1226 | 0.0000 |\n",
      "|         {0:1:2}{1:2:3}         | 1.1226 | 0.0000 |\n",
      "|         {0:1:3}{0:2:3}         | 0.7016 | 0.0000 |\n",
      "|         {0:1:3}{1:2:3}         | 0.7016 | 0.0000 |\n",
      "|         {0:2:3}{1:2:3}         | 1.1226 | 0.0000 |\n",
      "|     {0:1:2}{0:1:3}{0:2:3}      | 0.7016 | 0.0000 |\n",
      "|     {0:1:2}{0:1:3}{1:2:3}      | 0.7016 | 0.0000 |\n",
      "|     {0:1:2}{0:2:3}{1:2:3}      | 1.1226 | 0.0000 |\n",
      "|     {0:1:3}{0:2:3}{1:2:3}      | 0.7016 | 0.0000 |\n",
      "|             {0:1}              | 0.8113 | 0.1097 |\n",
      "|             {0:2}              | 1.1226 | 0.0000 |\n",
      "|             {0:3}              | 0.3113 | 0.0000 |\n",
      "|             {1:2}              | 1.1226 | 0.0000 |\n",
      "|             {1:3}              | 0.3113 | 0.0000 |\n",
      "|             {2:3}              | 0.8113 | 0.0000 |\n",
      "|  {0:1:2}{0:1:3}{0:2:3}{1:2:3}  | 0.7016 | 0.0000 |\n",
      "|          {0:1}{0:2:3}          | 0.7016 | 0.0000 |\n",
      "|          {0:1}{1:2:3}          | 0.7016 | 0.0000 |\n",
      "|          {0:2}{0:1:3}          | 0.7016 | 0.0000 |\n",
      "|          {0:2}{1:2:3}          | 1.1226 | 0.0000 |\n",
      "|          {0:3}{0:1:2}          | 0.3113 | 0.0000 |\n",
      "|          {0:3}{1:2:3}          | 0.3113 | 0.0000 |\n",
      "|          {1:2}{0:1:3}          | 0.7016 | 0.0000 |\n",
      "|          {1:2}{0:2:3}          | 1.1226 | 0.0000 |\n",
      "|          {1:3}{0:1:2}          | 0.3113 | 0.0000 |\n",
      "|          {1:3}{0:2:3}          | 0.3113 | 0.0000 |\n",
      "|          {2:3}{0:1:2}          | 0.8113 | 0.0000 |\n",
      "|          {2:3}{0:1:3}          | 0.5141 | 0.0000 |\n",
      "|      {0:1}{0:2:3}{1:2:3}       | 0.7016 | 0.0000 |\n",
      "|      {0:2}{0:1:3}{1:2:3}       | 0.7016 | 0.0000 |\n",
      "|      {0:3}{0:1:2}{1:2:3}       | 0.3113 | 0.0000 |\n",
      "|      {1:2}{0:1:3}{0:2:3}       | 0.7016 | 0.0000 |\n",
      "|      {1:3}{0:1:2}{0:2:3}       | 0.3113 | 0.0000 |\n",
      "|      {2:3}{0:1:2}{0:1:3}       | 0.5141 | 0.0000 |\n",
      "|           {0:1}{0:2}           | 0.7016 | 0.0000 |\n",
      "|           {0:1}{0:3}           | 0.3113 | 0.0000 |\n",
      "|           {0:1}{1:2}           | 0.7016 | 0.0000 |\n",
      "|           {0:1}{1:3}           | 0.3113 | 0.0000 |\n",
      "|           {0:2}{0:3}           | 0.3113 | 0.0000 |\n",
      "|           {0:2}{1:2}           | 1.1226 | 0.1238 |\n",
      "|           {0:2}{2:3}           | 0.8113 | 0.0000 |\n",
      "|           {0:3}{1:3}           | 0.3113 | 0.0000 |\n",
      "|           {0:3}{2:3}           | 0.2016 | 0.0000 |\n",
      "|           {1:2}{1:3}           | 0.3113 | 0.0000 |\n",
      "|           {1:2}{2:3}           | 0.8113 | 0.0000 |\n",
      "|           {1:3}{2:3}           | 0.2016 | 0.0000 |\n",
      "|        {0:1}{0:2}{0:3}         | 0.3113 | 0.0000 |\n",
      "|       {0:1}{0:2}{1:2:3}        | 0.7016 | 0.0000 |\n",
      "|       {0:1}{0:3}{1:2:3}        | 0.3113 | 0.0000 |\n",
      "|       {0:1}{1:2}{0:2:3}        | 0.7016 | 0.0000 |\n",
      "|        {0:1}{1:2}{1:3}         | 0.3113 | 0.0000 |\n",
      "|       {0:1}{1:3}{0:2:3}        | 0.3113 | 0.0000 |\n",
      "|       {0:2}{0:3}{1:2:3}        | 0.3113 | 0.0000 |\n",
      "|       {0:2}{1:2}{0:1:3}        | 0.7016 | 0.0000 |\n",
      "|        {0:2}{1:2}{2:3}         | 0.8113 | 0.0000 |\n",
      "|       {0:2}{2:3}{0:1:3}        | 0.5141 | 0.0000 |\n",
      "|       {0:3}{1:3}{0:1:2}        | 0.3113 | 0.0000 |\n",
      "|        {0:3}{1:3}{2:3}         | 0.2016 | 0.0000 |\n",
      "|       {0:3}{2:3}{0:1:2}        | 0.2016 | 0.0000 |\n",
      "|       {1:2}{1:3}{0:2:3}        | 0.3113 | 0.0000 |\n",
      "|       {1:2}{2:3}{0:1:3}        | 0.5141 | 0.0000 |\n",
      "|       {1:3}{2:3}{0:1:2}        | 0.2016 | 0.0000 |\n",
      "|           {0:1}{2:3}           | 0.5141 | 0.0000 |\n",
      "|           {0:2}{1:3}           | 0.3113 | 0.0000 |\n",
      "|           {0:3}{1:2}           | 0.3113 | 0.0000 |\n",
      "|     {0:1}{0:2}{0:3}{1:2:3}     | 0.3113 | 0.0000 |\n",
      "|     {0:1}{1:2}{1:3}{0:2:3}     | 0.3113 | 0.0000 |\n",
      "|     {0:2}{1:2}{2:3}{0:1:3}     | 0.5141 | 0.0000 |\n",
      "|     {0:3}{1:3}{2:3}{0:1:2}     | 0.2016 | 0.0000 |\n",
      "|        {0:1}{0:2}{1:2}         | 0.7016 | 0.0778 |\n",
      "|        {0:1}{0:2}{1:3}         | 0.3113 | 0.0000 |\n",
      "|        {0:1}{0:2}{2:3}         | 0.5141 | 0.0000 |\n",
      "|        {0:1}{0:3}{1:2}         | 0.3113 | 0.0000 |\n",
      "|        {0:1}{0:3}{1:3}         | 0.3113 | 0.0000 |\n",
      "|        {0:1}{0:3}{2:3}         | 0.2016 | 0.0000 |\n",
      "|        {0:1}{1:2}{2:3}         | 0.5141 | 0.0000 |\n",
      "|        {0:1}{1:3}{2:3}         | 0.2016 | 0.0000 |\n",
      "|        {0:2}{0:3}{1:2}         | 0.3113 | 0.0000 |\n",
      "|        {0:2}{0:3}{1:3}         | 0.3113 | 0.0000 |\n",
      "|        {0:2}{0:3}{2:3}         | 0.2016 | 0.0000 |\n",
      "|        {0:2}{1:2}{1:3}         | 0.3113 | 0.0000 |\n",
      "|        {0:2}{1:3}{2:3}         | 0.2016 | 0.0000 |\n",
      "|        {0:3}{1:2}{1:3}         | 0.3113 | 0.0000 |\n",
      "|        {0:3}{1:2}{2:3}         | 0.2016 | 0.0000 |\n",
      "|        {1:2}{1:3}{2:3}         | 0.2016 | 0.0000 |\n",
      "|              {0}               | 0.3113 | 0.0000 |\n",
      "|              {1}               | 0.3113 | 0.0000 |\n",
      "|              {2}               | 0.8113 | 0.2972 |\n",
      "|              {3}               | 0.0000 | 0.0000 |\n",
      "|      {0:1}{0:2}{0:3}{1:2}      | 0.3113 | 0.0000 |\n",
      "|      {0:1}{0:2}{0:3}{1:3}      | 0.3113 | 0.0000 |\n",
      "|      {0:1}{0:2}{0:3}{2:3}      | 0.2016 | 0.0000 |\n",
      "|      {0:1}{0:2}{1:2}{1:3}      | 0.3113 | 0.0000 |\n",
      "|      {0:1}{0:2}{1:2}{2:3}      | 0.5141 | 0.0000 |\n",
      "|      {0:1}{0:2}{1:3}{2:3}      | 0.2016 | 0.0000 |\n",
      "|      {0:1}{0:3}{1:2}{1:3}      | 0.3113 | 0.0000 |\n",
      "|      {0:1}{0:3}{1:2}{2:3}      | 0.2016 | 0.0000 |\n",
      "|      {0:1}{0:3}{1:3}{2:3}      | 0.2016 | 0.0000 |\n",
      "|      {0:1}{1:2}{1:3}{2:3}      | 0.2016 | 0.0000 |\n",
      "|      {0:2}{0:3}{1:2}{1:3}      | 0.3113 | 0.0000 |\n",
      "|      {0:2}{0:3}{1:2}{2:3}      | 0.2016 | 0.0000 |\n",
      "|      {0:2}{0:3}{1:3}{2:3}      | 0.2016 | 0.0000 |\n",
      "|      {0:2}{1:2}{1:3}{2:3}      | 0.2016 | 0.0000 |\n",
      "|      {0:3}{1:2}{1:3}{2:3}      | 0.2016 | 0.0000 |\n",
      "|           {0}{1:2:3}           | 0.3113 | 0.0000 |\n",
      "|           {1}{0:2:3}           | 0.3113 | 0.0000 |\n",
      "|           {2}{0:1:3}           | 0.5141 | 0.0000 |\n",
      "|           {3}{0:1:2}           | 0.0000 | 0.0000 |\n",
      "|   {0:1}{0:2}{0:3}{1:2}{1:3}    | 0.3113 | 0.0000 |\n",
      "|   {0:1}{0:2}{0:3}{1:2}{2:3}    | 0.2016 | 0.0000 |\n",
      "|   {0:1}{0:2}{0:3}{1:3}{2:3}    | 0.2016 | 0.0000 |\n",
      "|   {0:1}{0:2}{1:2}{1:3}{2:3}    | 0.2016 | 0.0000 |\n",
      "|   {0:1}{0:3}{1:2}{1:3}{2:3}    | 0.2016 | 0.0000 |\n",
      "|   {0:2}{0:3}{1:2}{1:3}{2:3}    | 0.2016 | 0.0000 |\n",
      "|            {0}{1:2}            | 0.3113 | 0.0000 |\n",
      "|            {0}{1:3}            | 0.3113 | 0.0000 |\n",
      "|            {0}{2:3}            | 0.2016 | 0.0000 |\n",
      "|            {1}{0:2}            | 0.3113 | 0.0000 |\n",
      "|            {1}{0:3}            | 0.3113 | 0.0000 |\n",
      "|            {1}{2:3}            | 0.2016 | 0.0000 |\n",
      "|            {2}{0:1}            | 0.5141 | 0.3125 |\n",
      "|            {2}{0:3}            | 0.2016 | 0.0000 |\n",
      "|            {2}{1:3}            | 0.2016 | 0.0000 |\n",
      "|            {3}{0:1}            | 0.0000 | 0.0000 |\n",
      "|            {3}{0:2}            | 0.0000 | 0.0000 |\n",
      "|            {3}{1:2}            | 0.0000 | 0.0000 |\n",
      "| {0:1}{0:2}{0:3}{1:2}{1:3}{2:3} | 0.2016 | 0.0000 |\n",
      "|         {0}{1:2}{1:3}          | 0.3113 | 0.0000 |\n",
      "|         {0}{1:2}{2:3}          | 0.2016 | 0.0000 |\n",
      "|         {0}{1:3}{2:3}          | 0.2016 | 0.0000 |\n",
      "|         {1}{0:2}{0:3}          | 0.3113 | 0.0000 |\n",
      "|         {1}{0:2}{2:3}          | 0.2016 | 0.0000 |\n",
      "|         {1}{0:3}{2:3}          | 0.2016 | 0.0000 |\n",
      "|         {2}{0:1}{0:3}          | 0.2016 | 0.0000 |\n",
      "|         {2}{0:1}{1:3}          | 0.2016 | 0.0000 |\n",
      "|         {2}{0:3}{1:3}          | 0.2016 | 0.0000 |\n",
      "|         {3}{0:1}{0:2}          | 0.0000 | 0.0000 |\n",
      "|         {3}{0:1}{1:2}          | 0.0000 | 0.0000 |\n",
      "|         {3}{0:2}{1:2}          | 0.0000 | 0.0000 |\n",
      "|       {0}{1:2}{1:3}{2:3}       | 0.2016 | 0.0000 |\n",
      "|       {1}{0:2}{0:3}{2:3}       | 0.2016 | 0.0000 |\n",
      "|       {2}{0:1}{0:3}{1:3}       | 0.2016 | 0.0000 |\n",
      "|       {3}{0:1}{0:2}{1:2}       | 0.0000 | 0.0000 |\n",
      "|             {0}{1}             | 0.3113 | 0.1097 |\n",
      "|             {0}{2}             | 0.2016 | 0.0000 |\n",
      "|             {0}{3}             | 0.0000 | 0.0000 |\n",
      "|             {1}{2}             | 0.2016 | 0.0000 |\n",
      "|             {1}{3}             | 0.0000 | 0.0000 |\n",
      "|             {2}{3}             | 0.0000 | 0.0000 |\n",
      "|          {0}{1}{2:3}           | 0.2016 | 0.0000 |\n",
      "|          {0}{2}{1:3}           | 0.2016 | 0.0000 |\n",
      "|          {0}{3}{1:2}           | 0.0000 | 0.0000 |\n",
      "|          {1}{2}{0:3}           | 0.2016 | 0.0000 |\n",
      "|          {1}{3}{0:2}           | 0.0000 | 0.0000 |\n",
      "|          {2}{3}{0:1}           | 0.0000 | 0.0000 |\n",
      "|           {0}{1}{2}            | 0.2016 | 0.2016 |\n",
      "|           {0}{1}{3}            | 0.0000 | 0.0000 |\n",
      "|           {0}{2}{3}            | 0.0000 | 0.0000 |\n",
      "|           {1}{2}{3}            | 0.0000 | 0.0000 |\n",
      "|          {0}{1}{2}{3}          | 0.0000 | 0.0000 |\n",
      "+--------------------------------+--------+--------+\n"
     ]
    }
   ],
   "source": [
    "print(imin_micro)"
   ]
  },
  {
   "cell_type": "code",
   "execution_count": 20,
   "metadata": {
    "scrolled": true
   },
   "outputs": [
    {
     "name": "stdout",
     "output_type": "stream",
     "text": [
      "+-----------------+--------+--------+\n",
      "|      I_min      |  I_r   |   pi   |\n",
      "+-----------------+--------+--------+\n",
      "|     {0:1:2}     | 0.8113 | 0.0000 |\n",
      "|      {0:1}      | 0.8113 | 0.5000 |\n",
      "|      {0:2}      | 0.3113 | 0.0000 |\n",
      "|      {1:2}      | 0.3113 | 0.0000 |\n",
      "|    {0:1}{0:2}   | 0.3113 | 0.0000 |\n",
      "|    {0:1}{1:2}   | 0.3113 | 0.0000 |\n",
      "|    {0:2}{1:2}   | 0.3113 | 0.0000 |\n",
      "| {0:1}{0:2}{1:2} | 0.3113 | 0.0000 |\n",
      "|       {0}       | 0.3113 | 0.0000 |\n",
      "|       {1}       | 0.3113 | 0.0000 |\n",
      "|       {2}       | 0.0000 | 0.0000 |\n",
      "|     {0}{1:2}    | 0.3113 | 0.0000 |\n",
      "|     {1}{0:2}    | 0.3113 | 0.0000 |\n",
      "|     {2}{0:1}    | 0.0000 | 0.0000 |\n",
      "|      {0}{1}     | 0.3113 | 0.3113 |\n",
      "|      {0}{2}     | 0.0000 | 0.0000 |\n",
      "|      {1}{2}     | 0.0000 | 0.0000 |\n",
      "|    {0}{1}{2}    | 0.0000 | 0.0000 |\n",
      "+-----------------+--------+--------+\n"
     ]
    }
   ],
   "source": [
    "print(imin_macro)"
   ]
  },
  {
   "cell_type": "markdown",
   "metadata": {},
   "source": [
    "The macro distribution has 2.17x more mutual information between past and future, so going from the NAND-construction to the basic AND construction looses a lot of information about the internal networks of what's happening. This is expected, I think. \n",
    "\n",
    "The macro PID lattice has only 2 non-zero atoms: \\{0:1\\} (0.5 bit) and \\{0\\}\\{1\\} (0.3113 bit).\n",
    "\n",
    "The micro PID latttice has 38 non-zero atoms (I won't list them all, but everything is represented - synergy, redundancy, the works).\n",
    "\n",
    "It does not look to me as though there is an obvious move from \"lower\" on the lattice to \"higher\" on the lattice, if I am being honest. In contrast, it seems like our coarse-graining procedure is just throwing out lots of information. If we had a system where MI_micro = MI_macro and the macro state was smaller, it would be a much more compelling story, I feel. "
   ]
  }
 ],
 "metadata": {
  "kernelspec": {
   "display_name": "Python 3",
   "language": "python",
   "name": "python3"
  },
  "language_info": {
   "codemirror_mode": {
    "name": "ipython",
    "version": 3
   },
   "file_extension": ".py",
   "mimetype": "text/x-python",
   "name": "python",
   "nbconvert_exporter": "python",
   "pygments_lexer": "ipython3",
   "version": "3.8.5"
  }
 },
 "nbformat": 4,
 "nbformat_minor": 4
}
