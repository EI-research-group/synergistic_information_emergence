{
 "cells": [
  {
   "cell_type": "code",
   "execution_count": 1,
   "metadata": {},
   "outputs": [],
   "source": [
    "import numpy as np \n",
    "import networkx as nx \n",
    "import os \n",
    "import matplotlib.pyplot as plt\n",
    "%matplotlib inline\n",
    "\n",
    "micro_lattice = nx.read_edgelist(\"XOR_micro_lattice.edgelist\")\n",
    "macro_lattice = nx.read_edgelist(\"XOR_macro_lattice.edgelist\")\n",
    "\n",
    "micro_pid = np.load(\"XOR_micro_PID_dicts.npz\", allow_pickle=True)\n",
    "micro_lattice_nums = micro_pid[\"arr_0\"][0]\n",
    "micro_lattice_terms = micro_pid[\"arr_0\"][1]\n",
    "\n",
    "macro_pid = np.load(\"XOR_macro_PID_dicts.npz\", allow_pickle=True)\n",
    "macro_lattice_nums = macro_pid[\"arr_0\"][0]\n",
    "macro_lattice_terms = macro_pid[\"arr_0\"][1]"
   ]
  },
  {
   "cell_type": "code",
   "execution_count": 4,
   "metadata": {},
   "outputs": [
    {
     "data": {
      "text/plain": [
       "{'{0:1}': (0.8113, 0.5), '{0}{1}': (0.3113, 0.3113)}"
      ]
     },
     "execution_count": 4,
     "metadata": {},
     "output_type": "execute_result"
    }
   ],
   "source": [
    "{i:micro_lattice_terms[i] for i in micro_lattice_terms.keys() if micro_lattice_terms[i][1] != 0}"
   ]
  }
 ],
 "metadata": {
  "kernelspec": {
   "display_name": "Python 3",
   "language": "python",
   "name": "python3"
  },
  "language_info": {
   "codemirror_mode": {
    "name": "ipython",
    "version": 3
   },
   "file_extension": ".py",
   "mimetype": "text/x-python",
   "name": "python",
   "nbconvert_exporter": "python",
   "pygments_lexer": "ipython3",
   "version": "3.7.4"
  }
 },
 "nbformat": 4,
 "nbformat_minor": 2
}
