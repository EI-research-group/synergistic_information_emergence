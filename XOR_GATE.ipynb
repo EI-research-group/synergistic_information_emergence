{
 "cells": [
  {
   "cell_type": "code",
   "execution_count": 26,
   "metadata": {},
   "outputs": [],
   "source": [
    "import numpy as np \n",
    "import networkx as nx\n",
    "import dit\n",
    "from library import equilibrium_dist, dit_dist, pid_dicts, tpm_temporal_MI\n",
    "from itertools import product\n",
    "import matplotlib.pyplot as plt\n",
    "from dit.pid import PID_WB\n",
    "%matplotlib inline "
   ]
  },
  {
   "cell_type": "markdown",
   "metadata": {},
   "source": [
    "0  00000 -> 00100 4\n",
    "1  00001 -> 00100 4 \n",
    "2  00010 -> 00100 4\n",
    "3  00011 -> 00100 4\n",
    "4  00100 -> 00100 4\n",
    "5  00101 -> 00100 4\n",
    "6  00110 -> 00101 5\n",
    "7  00111 -> 00101 5\n",
    "\n",
    "8  01000 -> 01110 14\n",
    "9  01001 -> 01110 14\n",
    "10 01010 -> 01110 14\n",
    "11 01011 -> 01110 14\n",
    "12 01100 -> 01110 14\n",
    "13 01101 -> 01110 14\n",
    "14 01110 -> 01111 15\n",
    "15 01111 -> 01111 15\n",
    "\n",
    "16 10000 -> 10110 22\n",
    "17 10001 -> 10110 22\n",
    "18 10010 -> 10110 22\n",
    "19 10011 -> 10110 22\n",
    "20 10100 -> 10110 22\n",
    "21 10101 -> 10110 22\n",
    "22 10110 -> 10111 23\n",
    "23 10111 -> 10111 23\n",
    "\n",
    "24 11000 -> 11010 26\n",
    "25 11001 -> 11010 26\n",
    "26 11010 -> 11010 26\n",
    "27 11011 -> 11010 26\n",
    "28 11100 -> 11010 26\n",
    "29 11101 -> 11010 26\n",
    "30 11110 -> 11011 27\n",
    "31 11111 -> 11011 27"
   ]
  },
  {
   "cell_type": "code",
   "execution_count": 23,
   "metadata": {
    "scrolled": true
   },
   "outputs": [
    {
     "data": {
      "text/plain": [
       "<matplotlib.image.AxesImage at 0x7fb5109498d0>"
      ]
     },
     "execution_count": 23,
     "metadata": {},
     "output_type": "execute_result"
    },
    {
     "data": {
      "image/png": "[encoded data removed]",
      "text/plain": [
       "<Figure size 432x288 with 1 Axes>"
      ]
     },
     "metadata": {
      "needs_background": "light"
     },
     "output_type": "display_data"
    }
   ],
   "source": [
    "mat_micro = np.zeros((2**5,2**5))\n",
    "mat_micro[0][4] = 1\n",
    "mat_micro[1][4] = 1\n",
    "mat_micro[2][4] = 1\n",
    "mat_micro[3][4] = 1\n",
    "mat_micro[4][4] = 1\n",
    "mat_micro[5][4] = 1\n",
    "mat_micro[6][5] = 1\n",
    "mat_micro[7][5] = 1\n",
    "\n",
    "mat_micro[8][14] = 1\n",
    "mat_micro[9][14] = 1\n",
    "mat_micro[10][14] = 1\n",
    "mat_micro[11][14] = 1\n",
    "mat_micro[12][14] = 1\n",
    "mat_micro[13][14] = 1\n",
    "mat_micro[14][15] = 1\n",
    "mat_micro[15][15] = 1\n",
    "\n",
    "mat_micro[16][22] = 1\n",
    "mat_micro[17][22] = 1\n",
    "mat_micro[18][22] = 1\n",
    "mat_micro[19][22] = 1\n",
    "mat_micro[20][22] = 1\n",
    "mat_micro[21][22] = 1\n",
    "mat_micro[22][23] = 1\n",
    "mat_micro[23][23] = 1\n",
    "\n",
    "mat_micro[24][24] = 1\n",
    "mat_micro[25][24] = 1\n",
    "mat_micro[26][24] = 1\n",
    "mat_micro[27][24] = 1\n",
    "mat_micro[28][24] = 1\n",
    "mat_micro[29][24] = 1\n",
    "mat_micro[30][25] = 1\n",
    "mat_micro[31][25] = 1\n",
    "\n",
    "states = [\"\".join(x) for x in product([\"0\",\"1\"], repeat=int(np.log2(mat_micro.shape[0])))]\n",
    "\n",
    "plt.imshow(mat_micro)"
   ]
  },
  {
   "cell_type": "code",
   "execution_count": 24,
   "metadata": {
    "scrolled": true
   },
   "outputs": [
    {
     "data": {
      "text/plain": [
       "<matplotlib.colorbar.Colorbar at 0x7fb515ba78d0>"
      ]
     },
     "execution_count": 24,
     "metadata": {},
     "output_type": "execute_result"
    },
    {
     "data": {
      "image/png": "[encoded data removed]",
      "text/plain": [
       "<Figure size 432x288 with 2 Axes>"
      ]
     },
     "metadata": {
      "needs_background": "light"
     },
     "output_type": "display_data"
    }
   ],
   "source": [
    "for i in range(mat_micro.shape[0]):\n",
    "    possible_states = ([int(x,2) for x in states if x[2:] == states[np.where(mat_micro[i] == 1)[0][0]][2:]])\n",
    "    mat_micro[i][possible_states] = 0.25\n",
    "    \n",
    "plt.imshow(mat_micro, vmin=0, vmax=1)\n",
    "plt.ylabel(\"Present State\")\n",
    "plt.xlabel(\"Future State\")\n",
    "plt.colorbar(label=\"Probability\")"
   ]
  },
  {
   "cell_type": "code",
   "execution_count": 25,
   "metadata": {},
   "outputs": [
    {
     "name": "stdout",
     "output_type": "stream",
     "text": [
      "[0.03125 0.03125 0.      0.      0.03125 0.03125 0.0625  0.0625  0.03125\n",
      " 0.03125 0.      0.      0.03125 0.03125 0.0625  0.0625  0.03125 0.03125\n",
      " 0.      0.      0.03125 0.03125 0.0625  0.0625  0.03125 0.03125 0.\n",
      " 0.      0.03125 0.03125 0.0625  0.0625 ]\n",
      "\n"
     ]
    }
   ],
   "source": [
    "pi = equilibrium_dist(mat_micro)\n",
    "print(pi)\n",
    "print(\"\")\n",
    "Dist_micro = dit_dist(pi, mat_micro)"
   ]
  },
  {
   "cell_type": "code",
   "execution_count": 27,
   "metadata": {},
   "outputs": [
    {
     "name": "stdout",
     "output_type": "stream",
     "text": [
      "2.499999999999999\n"
     ]
    }
   ],
   "source": [
    "print(tpm_temporal_MI(pi, mat_micro))"
   ]
  },
  {
   "cell_type": "code",
   "execution_count": 33,
   "metadata": {},
   "outputs": [],
   "source": [
    "imin_micro = PID_WB(Dist_micro)\n",
    "micro_lattice_order, micro_pid_results = pid_dicts(imin_micro)\n",
    "\n",
    "bundle = np.array([micro_lattice_order, micro_pid_results], dtype=\"object\")\n",
    "np.savez_compressed(\"XOR_micro_PID_dicts.npz\", bundle)\n",
    "\n",
    "lattice = imin_micro._lattice._lattice\n",
    "node_tups = sorted(lattice)\n",
    "node_strs = [(''.join('{{{}}}'.format(':'.join(map(str, n))) for n in node)) for node in sorted(lattice.nodes)]\n",
    "\n",
    "mapping = {node_tups[i] : node_strs[i] for i in range(len(node_tups))}\n",
    "xor_micro_lattice = nx.relabel_nodes(lattice, mapping)\n",
    "\n",
    "nx.write_edgelist(xor_micro_lattice,\"XOR_micro_lattice.edgelist\")\n",
    "# Macro-State Boolean Network"
   ]
  },
  {
   "cell_type": "code",
   "execution_count": 28,
   "metadata": {},
   "outputs": [
    {
     "data": {
      "text/plain": [
       "<matplotlib.colorbar.Colorbar at 0x7fb512f92cd0>"
      ]
     },
     "execution_count": 28,
     "metadata": {},
     "output_type": "execute_result"
    },
    {
     "data": {
      "image/png": "[encoded data removed]",
      "text/plain": [
       "<Figure size 432x288 with 2 Axes>"
      ]
     },
     "metadata": {
      "needs_background": "light"
     },
     "output_type": "display_data"
    }
   ],
   "source": [
    "mat_macro = np.zeros((8,8))\n",
    "mat_macro[0][0] = 1 #000 -> 000\n",
    "mat_macro[1][0] = 1 #001 -> 000\n",
    "\n",
    "mat_macro[2][3] = 1 #010 -> 011\n",
    "mat_macro[3][3] = 1 #011 -> 011\n",
    "\n",
    "mat_macro[4][5] = 1 #100 -> 101\n",
    "mat_macro[5][5] = 1 #101 -> 101\n",
    "\n",
    "mat_macro[6][6] = 1 #110 -> 110\n",
    "mat_macro[7][6] = 1 #111 -> 110\n",
    "\n",
    "plt.imshow(mat_macro)\n",
    "plt.ylabel(\"Present State\")\n",
    "plt.xlabel(\"Future State\")\n",
    "plt.colorbar(label=\"Probability\")"
   ]
  },
  {
   "cell_type": "code",
   "execution_count": 29,
   "metadata": {
    "scrolled": true
   },
   "outputs": [
    {
     "data": {
      "text/plain": [
       "<matplotlib.colorbar.Colorbar at 0x7fb515f60dd0>"
      ]
     },
     "execution_count": 29,
     "metadata": {},
     "output_type": "execute_result"
    },
    {
     "data": {
      "image/png": "[encoded data removed]",
      "text/plain": [
       "<Figure size 432x288 with 2 Axes>"
      ]
     },
     "metadata": {
      "needs_background": "light"
     },
     "output_type": "display_data"
    }
   ],
   "source": [
    "macro_states = [\"000\",\"001\",\"010\",\"011\",\"100\",\"101\",\"110\",\"111\"]\n",
    "for i in range(mat_macro.shape[0]):\n",
    "    possible_states = ([int(x,2) for x in macro_states if x[2:] == macro_states[np.where(mat_macro[i] == 1)[0][0]][2:]])\n",
    "    mat_macro[i][possible_states] = 0.25\n",
    "    \n",
    "plt.imshow(mat_macro, vmin=0, vmax=1)\n",
    "plt.ylabel(\"Present State\")\n",
    "plt.xlabel(\"Future State\")\n",
    "plt.colorbar(label=\"Probability\")"
   ]
  },
  {
   "cell_type": "code",
   "execution_count": 30,
   "metadata": {
    "scrolled": true
   },
   "outputs": [
    {
     "name": "stdout",
     "output_type": "stream",
     "text": [
      "[0.125 0.125 0.125 0.125 0.125 0.125 0.125 0.125]\n",
      "\n",
      "Class:          Distribution\n",
      "Alphabet:       (('0', '1'), ('0', '1'), ('0', '1'), ('0', '1', '2', '3', '4', '5', '6', '7'))\n",
      "Base:           linear\n",
      "Outcome Class:  str\n",
      "Outcome Length: 4\n",
      "RV Names:       None\n",
      "\n",
      "x      p(x)\n",
      "0000   0.03125000000000001\n",
      "0002   0.03125000000000001\n",
      "0004   0.03125000000000001\n",
      "0006   0.03125000000000001\n",
      "0010   0.031249999999999997\n",
      "0012   0.031249999999999997\n",
      "0014   0.031249999999999997\n",
      "0016   0.031249999999999997\n",
      "0101   0.031249999999999993\n",
      "0103   0.031249999999999993\n",
      "0105   0.031249999999999993\n",
      "0107   0.031249999999999993\n",
      "0111   0.03125000000000002\n",
      "0113   0.03125000000000002\n",
      "0115   0.03125000000000002\n",
      "0117   0.03125000000000002\n",
      "1001   0.03125000000000001\n",
      "1003   0.03125000000000001\n",
      "1005   0.03125000000000001\n",
      "1007   0.03125000000000001\n",
      "1011   0.03125000000000002\n",
      "1013   0.03125000000000002\n",
      "1015   0.03125000000000002\n",
      "1017   0.03125000000000002\n",
      "1100   0.03124999999999998\n",
      "1102   0.03124999999999998\n",
      "1104   0.03124999999999998\n",
      "1106   0.03124999999999998\n",
      "1110   0.031249999999999997\n",
      "1112   0.031249999999999997\n",
      "1114   0.031249999999999997\n",
      "1116   0.031249999999999997\n",
      "\n"
     ]
    }
   ],
   "source": [
    "pi_macro = pi = equilibrium_dist(mat_macro)\n",
    "print(pi_macro)\n",
    "print(\"\")\n",
    "Dist_macro = dit_dist(pi_macro, mat_macro)\n",
    "print(Dist_macro)\n",
    "print(\"\")"
   ]
  },
  {
   "cell_type": "code",
   "execution_count": 32,
   "metadata": {},
   "outputs": [
    {
     "name": "stdout",
     "output_type": "stream",
     "text": [
      "0.9999999999999991\n"
     ]
    }
   ],
   "source": [
    "print(tpm_temporal_MI(pi_macro, mat_macro))"
   ]
  },
  {
   "cell_type": "code",
   "execution_count": 17,
   "metadata": {},
   "outputs": [
    {
     "name": "stdout",
     "output_type": "stream",
     "text": [
      "+-----------------+--------+--------+\n",
      "|      I_min      |  I_r   |   pi   |\n",
      "+-----------------+--------+--------+\n",
      "|     {0:1:2}     | 1.0000 | 0.0000 |\n",
      "|      {0:1}      | 1.0000 | 1.0000 |\n",
      "|      {0:2}      | 0.0000 | 0.0000 |\n",
      "|      {1:2}      | 0.0000 | 0.0000 |\n",
      "|    {0:1}{0:2}   | 0.0000 | 0.0000 |\n",
      "|    {0:1}{1:2}   | 0.0000 | 0.0000 |\n",
      "|    {0:2}{1:2}   | 0.0000 | 0.0000 |\n",
      "| {0:1}{0:2}{1:2} | 0.0000 | 0.0000 |\n",
      "|       {0}       | 0.0000 | 0.0000 |\n",
      "|       {1}       | 0.0000 | 0.0000 |\n",
      "|       {2}       | 0.0000 | 0.0000 |\n",
      "|     {0}{1:2}    | 0.0000 | 0.0000 |\n",
      "|     {1}{0:2}    | 0.0000 | 0.0000 |\n",
      "|     {2}{0:1}    | 0.0000 | 0.0000 |\n",
      "|      {0}{1}     | 0.0000 | 0.0000 |\n",
      "|      {0}{2}     | 0.0000 | 0.0000 |\n",
      "|      {1}{2}     | 0.0000 | 0.0000 |\n",
      "|    {0}{1}{2}    | 0.0000 | 0.0000 |\n",
      "+-----------------+--------+--------+\n"
     ]
    }
   ],
   "source": [
    "imin_macro = PID_WB(Dist_macro)\n",
    "print(imin_macro)"
   ]
  },
  {
   "cell_type": "code",
   "execution_count": 18,
   "metadata": {},
   "outputs": [],
   "source": [
    "macro_lattice_order, macro_pid_results = pid_dicts(imin_macro)\n",
    "\n",
    "bundle = np.array([macro_lattice_order, macro_pid_results], dtype=\"object\")\n",
    "np.savez_compressed(\"XOR_macro_PID_dicts.npz\", bundle)\n",
    "\n",
    "lattice = imin_macro._lattice._lattice\n",
    "node_tups = sorted(lattice)\n",
    "node_strs = [(''.join('{{{}}}'.format(':'.join(map(str, n))) for n in node)) for node in sorted(lattice.nodes)]\n",
    "\n",
    "mapping = {node_tups[i] : node_strs[i] for i in range(len(node_tups))}\n",
    "xor_macro_lattice = nx.relabel_nodes(lattice, mapping)\n",
    "\n",
    "nx.write_edgelist(xor_macro_lattice,\"XOR_macro_lattice.edgelist\")"
   ]
  }
 ],
 "metadata": {
  "kernelspec": {
   "display_name": "Python 3",
   "language": "python",
   "name": "python3"
  },
  "language_info": {
   "codemirror_mode": {
    "name": "ipython",
    "version": 3
   },
   "file_extension": ".py",
   "mimetype": "text/x-python",
   "name": "python",
   "nbconvert_exporter": "python",
   "pygments_lexer": "ipython3",
   "version": "3.8.5"
  }
 },
 "nbformat": 4,
 "nbformat_minor": 4
}
