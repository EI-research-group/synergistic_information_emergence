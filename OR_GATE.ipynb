{
 "cells": [
  {
   "cell_type": "code",
   "execution_count": 2,
   "metadata": {},
   "outputs": [],
   "source": [
    "import numpy as np \n",
    "import networkx as nx\n",
    "import dit\n",
    "from library import equilibrium_dist, dit_dist, pid_dicts\n",
    "from itertools import product\n",
    "import matplotlib.pyplot as plt\n",
    "from dit.pid import PID_WB\n",
    "%matplotlib inline "
   ]
  },
  {
   "cell_type": "markdown",
   "metadata": {},
   "source": [
    "# Micro-State Boolean Network\n"
   ]
  },
  {
   "cell_type": "code",
   "execution_count": 13,
   "metadata": {},
   "outputs": [
    {
     "data": {
      "image/png": "[encoded data removed]",
      "text/plain": [
       "<Figure size 432x288 with 1 Axes>"
      ]
     },
     "metadata": {
      "needs_background": "light"
     },
     "output_type": "display_data"
    }
   ],
   "source": [
    "mat_micro = np.zeros((2**5, 2**5))\n",
    "\n",
    "mat_micro[0][7] = 1\n",
    "mat_micro[1][7] = 1\n",
    "mat_micro[2][7] = 1\n",
    "mat_micro[3][7] = 1\n",
    "mat_micro[4][7] = 1\n",
    "mat_micro[5][7] = 1\n",
    "mat_micro[6][6] = 1\n",
    "mat_micro[7][6] = 1\n",
    "\n",
    "mat_micro[8][13] = 1\n",
    "mat_micro[9][13]  = 1\n",
    "mat_micro[10][13] = 1\n",
    "mat_micro[11][13] = 1\n",
    "mat_micro[12][13] = 1\n",
    "mat_micro[13][13] = 1\n",
    "mat_micro[14][12] = 1\n",
    "mat_micro[15][12] = 1\n",
    "\n",
    "mat_micro[16][19] = 1\n",
    "mat_micro[17][19] = 1\n",
    "mat_micro[18][19] = 1\n",
    "mat_micro[19][19] = 1\n",
    "mat_micro[20][19] = 1\n",
    "mat_micro[21][19] = 1\n",
    "mat_micro[22][18] = 1\n",
    "mat_micro[23][18] = 1\n",
    "\n",
    "mat_micro[24][25] = 1\n",
    "mat_micro[25][25] = 1\n",
    "mat_micro[26][25] = 1\n",
    "mat_micro[27][25] = 1\n",
    "mat_micro[28][25] = 1\n",
    "mat_micro[29][25] = 1\n",
    "mat_micro[30][24] = 1\n",
    "mat_micro[31][24] = 1\n",
    "plt.imshow(mat_micro)\n",
    "\n",
    "states = [\"\".join(x) for x in product([\"0\",\"1\"], repeat=int(np.log2(mat_micro.shape[0])))]"
   ]
  },
  {
   "cell_type": "markdown",
   "metadata": {},
   "source": [
    "0  00000 -> 00111 7\n",
    "1  00001 -> 00111 7\n",
    "2  00010 -> 00111 7\n",
    "3  00011 -> 00111 7\n",
    "4  00100 -> 00111 7\n",
    "5  00101 -> 00111 7\n",
    "6  00110 -> 00110 6\n",
    "7  00111 -> 00110 6\n",
    "\n",
    "8  01000 -> 01101 13\n",
    "9  01001 -> 01101 13\n",
    "10 01010 -> 01101 13\n",
    "11 01011 -> 01101 13\n",
    "12 01100 -> 01101 13\n",
    "13 01101 -> 01101 13\n",
    "14 01110 -> 01100 12\n",
    "15 01111 -> 01100 12\n",
    "\n",
    "16 10000 -> 10011 19\n",
    "17 10001 -> 10011 19\n",
    "18 10010 -> 10011 19\n",
    "19 10011 -> 10011 19\n",
    "20 10100 -> 10011 19\n",
    "21 10101 -> 10011 19\n",
    "22 10110 -> 10010 18\n",
    "23 10111 -> 10010 18\n",
    "\n",
    "24 11000 -> 11001 25\n",
    "25 11001 -> 11001 25\n",
    "26 11010 -> 11001 25\n",
    "27 11011 -> 11001 25\n",
    "28 11100 -> 11001 25\n",
    "29 11101 -> 11001 25\n",
    "30 11110 -> 11000 24\n",
    "31 11111 -> 11000 24"
   ]
  },
  {
   "cell_type": "code",
   "execution_count": 4,
   "metadata": {},
   "outputs": [
    {
     "data": {
      "text/plain": [
       "<matplotlib.colorbar.Colorbar at 0x7fa9aff85c50>"
      ]
     },
     "execution_count": 4,
     "metadata": {},
     "output_type": "execute_result"
    },
    {
     "data": {
      "image/png": "[encoded data removed]",
      "text/plain": [
       "<Figure size 432x288 with 2 Axes>"
      ]
     },
     "metadata": {
      "needs_background": "light"
     },
     "output_type": "display_data"
    }
   ],
   "source": [
    "for i in range(mat_micro.shape[0]):\n",
    "    possible_states = ([int(x,2) for x in states if x[2:] == states[np.where(mat_micro[i] == 1)[0][0]][2:]])\n",
    "    mat_micro[i][possible_states] = 0.25\n",
    "    \n",
    "plt.imshow(mat_micro, vmin=0, vmax=1)\n",
    "plt.ylabel(\"Present State\")\n",
    "plt.xlabel(\"Future State\")\n",
    "plt.colorbar(label=\"Probability\")"
   ]
  },
  {
   "cell_type": "code",
   "execution_count": 5,
   "metadata": {
    "scrolled": true
   },
   "outputs": [
    {
     "name": "stdout",
     "output_type": "stream",
     "text": [
      "[0.015625 0.046875 0.015625 0.046875 0.015625 0.046875 0.015625 0.046875\n",
      " 0.015625 0.046875 0.015625 0.046875 0.015625 0.046875 0.015625 0.046875\n",
      " 0.015625 0.046875 0.015625 0.046875 0.015625 0.046875 0.015625 0.046875\n",
      " 0.015625 0.046875 0.015625 0.046875 0.015625 0.046875 0.015625 0.046875]\n",
      "\n",
      "Class:          Distribution\n",
      "Alphabet:       (('0', '1'), ('0', '1'), ('0', '1'), ('0', '1'), ('0', '1'), ('A', 'B', 'C', 'D', 'E', 'F', 'G', 'H', 'I', 'J', 'K', 'L', 'M', 'N', 'O', 'P', 'Q', 'R', 'S', 'T', 'U', 'V', 'W', 'X', 'Y', 'Z', 'a', 'b', 'c', 'd', 'e', 'f'))\n",
      "Base:           linear\n",
      "Outcome Class:  str\n",
      "Outcome Length: 6\n",
      "RV Names:       None\n",
      "\n",
      "x        p(x)\n",
      "00000H   0.003906249999999999\n",
      "00000P   0.003906249999999999\n",
      "00000X   0.003906249999999999\n",
      "00000f   0.003906249999999999\n",
      "00001H   0.011718749999999993\n",
      "00001P   0.011718749999999993\n",
      "00001X   0.011718749999999993\n",
      "00001f   0.011718749999999993\n",
      "00010H   0.0039062499999999944\n",
      "00010P   0.0039062499999999944\n",
      "00010X   0.0039062499999999944\n",
      "00010f   0.0039062499999999944\n",
      "00011H   0.011718749999999998\n",
      "00011P   0.011718749999999998\n",
      "00011X   0.011718749999999998\n",
      "00011f   0.011718749999999998\n",
      "00100H   0.003906250000000003\n",
      "00100P   0.003906250000000003\n",
      "00100X   0.003906250000000003\n",
      "00100f   0.003906250000000003\n",
      "00101H   0.011718749999999998\n",
      "00101P   0.011718749999999998\n",
      "00101X   0.011718749999999998\n",
      "00101f   0.011718749999999998\n",
      "00110G   0.003906249999999993\n",
      "00110O   0.003906249999999993\n",
      "00110W   0.003906249999999993\n",
      "00110e   0.003906249999999993\n",
      "00111G   0.011718750000000003\n",
      "00111O   0.011718750000000003\n",
      "00111W   0.011718750000000003\n",
      "00111e   0.011718750000000003\n",
      "01000F   0.0039062500000000035\n",
      "01000N   0.0039062500000000035\n",
      "01000V   0.0039062500000000035\n",
      "01000d   0.0039062500000000035\n",
      "01001F   0.011718750000000002\n",
      "01001N   0.011718750000000002\n",
      "01001V   0.011718750000000002\n",
      "01001d   0.011718750000000002\n",
      "01010F   0.003906250000000002\n",
      "01010N   0.003906250000000002\n",
      "01010V   0.003906250000000002\n",
      "01010d   0.003906250000000002\n",
      "01011F   0.011718750000000005\n",
      "01011N   0.011718750000000005\n",
      "01011V   0.011718750000000005\n",
      "01011d   0.011718750000000005\n",
      "01100F   0.00390625\n",
      "01100N   0.00390625\n",
      "01100V   0.00390625\n",
      "01100d   0.00390625\n",
      "01101F   0.011718750000000005\n",
      "01101N   0.011718750000000005\n",
      "01101V   0.011718750000000005\n",
      "01101d   0.011718750000000005\n",
      "01110E   0.003906250000000006\n",
      "01110M   0.003906250000000006\n",
      "01110U   0.003906250000000006\n",
      "01110c   0.003906250000000006\n",
      "01111E   0.011718750000000009\n",
      "01111M   0.011718750000000009\n",
      "01111U   0.011718750000000009\n",
      "01111c   0.011718750000000009\n",
      "10000D   0.0039062499999999918\n",
      "10000L   0.0039062499999999918\n",
      "10000T   0.0039062499999999918\n",
      "10000b   0.0039062499999999918\n",
      "10001D   0.011718749999999997\n",
      "10001L   0.011718749999999997\n",
      "10001T   0.011718749999999997\n",
      "10001b   0.011718749999999997\n",
      "10010D   0.003906249999999999\n",
      "10010L   0.003906249999999999\n",
      "10010T   0.003906249999999999\n",
      "10010b   0.003906249999999999\n",
      "10011D   0.011718750000000003\n",
      "10011L   0.011718750000000003\n",
      "10011T   0.011718750000000003\n",
      "10011b   0.011718750000000003\n",
      "10100D   0.003906250000000008\n",
      "10100L   0.003906250000000008\n",
      "10100T   0.003906250000000008\n",
      "10100b   0.003906250000000008\n",
      "10101D   0.011718749999999997\n",
      "10101L   0.011718749999999997\n",
      "10101T   0.011718749999999997\n",
      "10101b   0.011718749999999997\n",
      "10110C   0.003906250000000001\n",
      "10110K   0.003906250000000001\n",
      "10110S   0.003906250000000001\n",
      "10110a   0.003906250000000001\n",
      "10111C   0.011718749999999998\n",
      "10111K   0.011718749999999998\n",
      "10111S   0.011718749999999998\n",
      "10111a   0.011718749999999998\n",
      "11000B   0.003906249999999991\n",
      "11000J   0.003906249999999991\n",
      "11000R   0.003906249999999991\n",
      "11000Z   0.003906249999999991\n",
      "11001B   0.011718750000000002\n",
      "11001J   0.011718750000000002\n",
      "11001R   0.011718750000000002\n",
      "11001Z   0.011718750000000002\n",
      "11010B   0.0039062499999999965\n",
      "11010J   0.0039062499999999965\n",
      "11010R   0.0039062499999999965\n",
      "11010Z   0.0039062499999999965\n",
      "11011B   0.011718749999999997\n",
      "11011J   0.011718749999999997\n",
      "11011R   0.011718749999999997\n",
      "11011Z   0.011718749999999997\n",
      "11100B   0.00390625\n",
      "11100J   0.00390625\n",
      "11100R   0.00390625\n",
      "11100Z   0.00390625\n",
      "11101B   0.011718750000000003\n",
      "11101J   0.011718750000000003\n",
      "11101R   0.011718750000000003\n",
      "11101Z   0.011718750000000003\n",
      "11110A   0.0039062500000000035\n",
      "11110I   0.0039062500000000035\n",
      "11110Q   0.0039062500000000035\n",
      "11110Y   0.0039062500000000035\n",
      "11111A   0.011718749999999997\n",
      "11111I   0.011718749999999997\n",
      "11111Q   0.011718749999999997\n",
      "11111Y   0.011718749999999997\n"
     ]
    }
   ],
   "source": [
    "pi = equilibrium_dist(mat_micro)\n",
    "print(pi)\n",
    "print(\"\")\n",
    "Dist_micro = dit_dist(pi, mat_micro)\n",
    "print(Dist_micro)"
   ]
  },
  {
   "cell_type": "code",
   "execution_count": 12,
   "metadata": {},
   "outputs": [],
   "source": [
    "#imin_micro = PID_WB(Dist_micro)\n",
    "micro_lattice_order, micro_pid_results = pid_dicts(imin_micro)\n",
    "\n",
    "bundle = np.array([micro_lattice_order, micro_pid_results], dtype=\"object\")\n",
    "np.savez_compressed(\"OR_micro_PID_dicts.npz\", bundle)\n",
    "\n",
    "lattice = imin_micro._lattice._lattice\n",
    "node_tups = sorted(lattice)\n",
    "node_strs = [(''.join('{{{}}}'.format(':'.join(map(str, n))) for n in node)) for node in sorted(lattice.nodes)]\n",
    "\n",
    "mapping = {node_tups[i] : node_strs[i] for i in range(len(node_tups))}\n",
    "or_macro_lattice = nx.relabel_nodes(lattice, mapping)\n",
    "\n",
    "nx.write_edgelist(or_macro_lattice,\"OR_micro_lattice.edgelist\")"
   ]
  },
  {
   "cell_type": "markdown",
   "metadata": {},
   "source": [
    "# Macro-State Boolean Network"
   ]
  },
  {
   "cell_type": "code",
   "execution_count": 7,
   "metadata": {
    "scrolled": true
   },
   "outputs": [
    {
     "data": {
      "text/plain": [
       "<matplotlib.colorbar.Colorbar at 0x7fa9aea31d10>"
      ]
     },
     "execution_count": 7,
     "metadata": {},
     "output_type": "execute_result"
    },
    {
     "data": {
      "image/png": "[encoded data removed]",
      "text/plain": [
       "<Figure size 432x288 with 2 Axes>"
      ]
     },
     "metadata": {
      "needs_background": "light"
     },
     "output_type": "display_data"
    }
   ],
   "source": [
    "mat_macro = np.zeros((8,8))\n",
    "mat_macro[0][0] = 1 #000 -> 000\n",
    "mat_macro[1][0] = 1 #001 -> 000\n",
    "\n",
    "mat_macro[2][3] = 1 #010 -> 011\n",
    "mat_macro[3][3] = 1 #011 -> 011\n",
    "\n",
    "mat_macro[4][5] = 1 #100 -> 101\n",
    "mat_macro[5][5] = 1 #101 -> 101\n",
    "\n",
    "mat_macro[6][7] = 1 #110 -> 111\n",
    "mat_macro[7][7] = 1 #111 -> 111\n",
    "\n",
    "plt.imshow(mat_macro)\n",
    "plt.ylabel(\"Present State\")\n",
    "plt.xlabel(\"Future State\")\n",
    "plt.colorbar(label=\"Probability\")"
   ]
  },
  {
   "cell_type": "code",
   "execution_count": 8,
   "metadata": {
    "scrolled": true
   },
   "outputs": [
    {
     "data": {
      "text/plain": [
       "<matplotlib.colorbar.Colorbar at 0x7fa9af929610>"
      ]
     },
     "execution_count": 8,
     "metadata": {},
     "output_type": "execute_result"
    },
    {
     "data": {
      "image/png": "[encoded data removed]",
      "text/plain": [
       "<Figure size 432x288 with 2 Axes>"
      ]
     },
     "metadata": {
      "needs_background": "light"
     },
     "output_type": "display_data"
    }
   ],
   "source": [
    "macro_states = [\"000\",\"001\",\"010\",\"011\",\"100\",\"101\",\"110\",\"111\"]\n",
    "for i in range(mat_macro.shape[0]):\n",
    "    possible_states = ([int(x,2) for x in macro_states if x[2:] == macro_states[np.where(mat_macro[i] == 1)[0][0]][2:]])\n",
    "    mat_macro[i][possible_states] = 0.25\n",
    "    \n",
    "plt.imshow(mat_macro, vmin=0, vmax=1)\n",
    "plt.ylabel(\"Present State\")\n",
    "plt.xlabel(\"Future State\")\n",
    "plt.colorbar(label=\"Probability\")"
   ]
  },
  {
   "cell_type": "code",
   "execution_count": 9,
   "metadata": {
    "scrolled": true
   },
   "outputs": [
    {
     "name": "stdout",
     "output_type": "stream",
     "text": [
      "[0.0625 0.1875 0.0625 0.1875 0.0625 0.1875 0.0625 0.1875]\n",
      "\n",
      "Class:          Distribution\n",
      "Alphabet:       (('0', '1'), ('0', '1'), ('0', '1'), ('0', '1', '2', '3', '4', '5', '6', '7'))\n",
      "Base:           linear\n",
      "Outcome Class:  str\n",
      "Outcome Length: 4\n",
      "RV Names:       None\n",
      "\n",
      "x      p(x)\n",
      "0000   0.015624999999999974\n",
      "0002   0.015624999999999974\n",
      "0004   0.015624999999999974\n",
      "0006   0.015624999999999974\n",
      "0010   0.04687500000000003\n",
      "0012   0.04687500000000003\n",
      "0014   0.04687500000000003\n",
      "0016   0.04687500000000003\n",
      "0101   0.015625000000000003\n",
      "0103   0.015625000000000003\n",
      "0105   0.015625000000000003\n",
      "0107   0.015625000000000003\n",
      "0111   0.046875\n",
      "0113   0.046875\n",
      "0115   0.046875\n",
      "0117   0.046875\n",
      "1001   0.015625000000000003\n",
      "1003   0.015625000000000003\n",
      "1005   0.015625000000000003\n",
      "1007   0.015625000000000003\n",
      "1011   0.04687500000000002\n",
      "1013   0.04687500000000002\n",
      "1015   0.04687500000000002\n",
      "1017   0.04687500000000002\n",
      "1101   0.015624999999999998\n",
      "1103   0.015624999999999998\n",
      "1105   0.015624999999999998\n",
      "1107   0.015624999999999998\n",
      "1111   0.04687500000000001\n",
      "1113   0.04687500000000001\n",
      "1115   0.04687500000000001\n",
      "1117   0.04687500000000001\n",
      "\n"
     ]
    }
   ],
   "source": [
    "pi_macro = pi = equilibrium_dist(mat_macro)\n",
    "print(pi_macro)\n",
    "print(\"\")\n",
    "Dist_macro = dit_dist(pi_macro, mat_macro)\n",
    "print(Dist_macro)\n",
    "print(\"\")\n"
   ]
  },
  {
   "cell_type": "code",
   "execution_count": 10,
   "metadata": {
    "scrolled": true
   },
   "outputs": [
    {
     "name": "stdout",
     "output_type": "stream",
     "text": [
      "+-----------------+--------+--------+\n",
      "|      I_min      |  I_r   |   pi   |\n",
      "+-----------------+--------+--------+\n",
      "|     {0:1:2}     | 0.8113 | 0.0000 |\n",
      "|      {0:1}      | 0.8113 | 0.5000 |\n",
      "|      {0:2}      | 0.3113 | 0.0000 |\n",
      "|      {1:2}      | 0.3113 | 0.0000 |\n",
      "|    {0:1}{0:2}   | 0.3113 | 0.0000 |\n",
      "|    {0:1}{1:2}   | 0.3113 | 0.0000 |\n",
      "|    {0:2}{1:2}   | 0.3113 | 0.0000 |\n",
      "| {0:1}{0:2}{1:2} | 0.3113 | 0.0000 |\n",
      "|       {0}       | 0.3113 | 0.0000 |\n",
      "|       {1}       | 0.3113 | 0.0000 |\n",
      "|       {2}       | 0.0000 | 0.0000 |\n",
      "|     {0}{1:2}    | 0.3113 | 0.0000 |\n",
      "|     {1}{0:2}    | 0.3113 | 0.0000 |\n",
      "|     {2}{0:1}    | 0.0000 | 0.0000 |\n",
      "|      {0}{1}     | 0.3113 | 0.3113 |\n",
      "|      {0}{2}     | 0.0000 | 0.0000 |\n",
      "|      {1}{2}     | 0.0000 | 0.0000 |\n",
      "|    {0}{1}{2}    | 0.0000 | 0.0000 |\n",
      "+-----------------+--------+--------+\n"
     ]
    }
   ],
   "source": [
    "imin_macro = PID_WB(Dist_macro)\n",
    "print(imin_macro)"
   ]
  },
  {
   "cell_type": "code",
   "execution_count": 11,
   "metadata": {},
   "outputs": [],
   "source": [
    "macro_lattice_order, macro_pid_results = pid_dicts(imin_macro)\n",
    "\n",
    "bundle = np.array([macro_lattice_order, macro_pid_results], dtype=\"object\")\n",
    "np.savez_compressed(\"OR_macro_PID_dicts.npz\", bundle)\n",
    "\n",
    "lattice = imin_macro._lattice._lattice\n",
    "node_tups = sorted(lattice)\n",
    "node_strs = [(''.join('{{{}}}'.format(':'.join(map(str, n))) for n in node)) for node in sorted(lattice.nodes)]\n",
    "\n",
    "mapping = {node_tups[i] : node_strs[i] for i in range(len(node_tups))}\n",
    "or_macro_lattice = nx.relabel_nodes(lattice, mapping)\n",
    "\n",
    "nx.write_edgelist(or_macro_lattice,\"OR_macro_lattice.edgelist\")"
   ]
  }
 ],
 "metadata": {
  "kernelspec": {
   "display_name": "Python 3",
   "language": "python",
   "name": "python3"
  },
  "language_info": {
   "codemirror_mode": {
    "name": "ipython",
    "version": 3
   },
   "file_extension": ".py",
   "mimetype": "text/x-python",
   "name": "python",
   "nbconvert_exporter": "python",
   "pygments_lexer": "ipython3",
   "version": "3.8.5"
  }
 },
 "nbformat": 4,
 "nbformat_minor": 4
}
